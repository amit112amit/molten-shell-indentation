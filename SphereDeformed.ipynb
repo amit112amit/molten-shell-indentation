{
 "cells": [
  {
   "cell_type": "markdown",
   "metadata": {},
   "source": [
    "# Stability of a Molten Shell under Applied External Pressure\n",
    "Suppose we know that a molten shell is axisymmetrically indented to a depth $h$. Let's assume that the indentation profile is $z(r)$. We can construct a Monge patch over the $(r,\\phi)$ plane for the surface of revolution of this profile. We want to evaluate\n",
    "\\begin{align}\n",
    "    \\mathcal{H} = \\frac{\\kappa}{2}\\int_{\\mathrm{MC}}{4\\,H^2\\mathrm{d}A} + \\frac{\\kappa}{2}\\int_{\\mathrm{RS}}{4\\,H^2\\mathrm{d}A}  + P\\Delta V\n",
    "\\end{align}\n",
    "where MC is the *Monge cap*, RS is *rest of the sphere* and\n",
    "\\begin{align}\n",
    "    H = \\frac{1}{2}\\left( \\kappa_1 + \\kappa_2 \\right)\n",
    "\\end{align}\n",
    "and\n",
    "\\begin{align}\n",
    "    dA = \\sqrt{g}\\,\\mathrm{d}\\theta\\,\\mathrm{d}r\n",
    "\\end{align}\n",
    "Note that we want to preserve the area of the sphere before and after the indentation using a *scale transformation*. The $\\Delta V$ term includes the change in volume due to the scale transformation as well."
   ]
  },
  {
   "cell_type": "markdown",
   "metadata": {},
   "source": [
    "## Bending Energy of the Spherical Part\n",
    "Assuming that the Monge cap starts from polar angle, $\\theta = \\pi/4$, we get\n",
    "\\begin{align}\n",
    "    \\mathcal{H}_{\\mathrm{RS}} &= \\frac{\\kappa}{2}\\int_0^{2\\pi}\\,\\int_{\\pi/4}^{\\pi}\\,\\frac{4}{R^2}\\,R^2\\sin\\theta\\,\\mathrm{d}\\theta\\,\\mathrm{d}\\phi\\\\\n",
    "    &= 4\\pi\\,\\kappa\\,\\left( 1 + \\frac{1}{\\sqrt{2}}\\right)\n",
    "\\end{align}"
   ]
  },
  {
   "cell_type": "markdown",
   "metadata": {},
   "source": [
    "## Indentation profile\n",
    "Now we will constuct a quartic polynomial indentation profile such that the profile merges smoothly with a circle in the $z-r$ plane.\n",
    "Consider a quartic polynomial\n",
    "\\begin{align}\n",
    "    z(r) &= a\\,r^4 + b\\,r^3 + c\\,r^2 + d\\,r + e \\\\\n",
    "\\end{align}\n",
    "We have five boundary conditions\n",
    "1. When $r=0$, $z'(0) = 0$. This gives $d = 0$.\n",
    "2. When $r=0$, $z(0) = R(1 - h)$. This gives $e = R(1 - h)$ where $h$ is the ratio of indentation depth to $R$.\n",
    "3. When $r=R\\,\\cos{\\pi/4}$, $z = R\\,\\sin{\\pi/4}$.\n",
    "4. When $r=R\\,\\cos{\\pi/4}$, $z' = -\\cot{\\pi/4}$.\n",
    "5. When $r=R\\,\\cos{\\pi/4}$, $z'' = -\\frac{1}{R\\sin^3{\\pi/4}}$\n",
    "\n",
    "We need to solve the third, fourth and fifth boundary condition equations for $a$, $b$ and $c$."
   ]
  },
  {
   "cell_type": "code",
   "execution_count": 1,
   "metadata": {},
   "outputs": [],
   "source": [
    "import sympy as sp\n",
    "from IPython.display import display_latex\n",
    "\n",
    "def disp(idx, symObj):\n",
    "    eqn = '\\\\[' + idx + ' = ' + sp.latex(symObj) + '\\\\]'\n",
    "    display_latex(eqn,raw=True)\n",
    "    return\n",
    "\n",
    "sp.init_printing()\n",
    "\n",
    "a, b, c = sp.symbols('a, b, c', real=True)\n",
    "h, R = sp.symbols('h, R', real=True, positive=True)\n",
    "r = R*sp.S(1)/sp.sqrt(2)\n",
    "eq3 = sp.Eq( a*r**4 + b*r**3 + c*r**2  + R*(1 - h) - R*sp.S(1)/sp.sqrt(2) )\n",
    "eq4 = sp.Eq( 4*a*r**3 + 3*b*r**2 + 2*c*r + 1 )\n",
    "eq5 = sp.Eq( (12*a*r**2 + 6*b*r + 2*c)*R*sp.S(1)/(2*sp.sqrt(2)) + 1 )\n",
    "sol = sp.solve( [eq3,eq4,eq5], a, b, c)\n",
    "r = sp.symbols('r', real=True, positive=True)\n",
    "z = sp.collect( sol[a]*r**4 + sol[b]*r**3 + sol[c]*r**2 + R*(1 - h), r )\n",
    "\n",
    "fz = sp.lambdify( (r,h,R), z )\n",
    "fzp = sp.lambdify( (r,h,R), z.diff(r) )\n",
    "fzpp = sp.lambdify( (r,h,R), z.diff(r,2) )"
   ]
  },
  {
   "cell_type": "markdown",
   "metadata": {},
   "source": [
    "Thus, we have the final equation for the indentation profile"
   ]
  },
  {
   "cell_type": "code",
   "execution_count": 2,
   "metadata": {},
   "outputs": [
    {
     "data": {
      "text/latex": [
       "\\[z(r) = R \\left(- h + 1\\right) + \\frac{4 r^{2}}{R} \\left(3 h - 3 + 2 \\sqrt{2}\\right) + \\frac{2 r^{3}}{R^{2}} \\left(4 \\sqrt{2} \\left(- 2 h - \\sqrt{2} + 2\\right) - 3\\right) + \\frac{4 r^{4}}{R^{3}} \\left(3 h - 3 + 2 \\sqrt{2}\\right)\\]"
      ]
     },
     "metadata": {},
     "output_type": "display_data"
    }
   ],
   "source": [
    "disp('z(r)', z)"
   ]
  },
  {
   "cell_type": "markdown",
   "metadata": {},
   "source": [
    "## Area Constraint\n",
    "We need to find the total surface area of the indented structure as a function of $R$. We need to find a new radius of the spherical portion $\\tilde{R}$ such that the new area is same as the old area.\n",
    "Area of the spherical part is obtained as follows:"
   ]
  },
  {
   "cell_type": "code",
   "execution_count": 3,
   "metadata": {},
   "outputs": [
    {
     "data": {
      "text/latex": [
       "\\[A_{\\mathrm{RS}} = \\pi R^{2} \\left(\\sqrt{2} + 2\\right)\\]"
      ]
     },
     "metadata": {},
     "output_type": "display_data"
    }
   ],
   "source": [
    "t, p = sp.symbols('theta, phi', real=True)\n",
    "As = sp.simplify( sp.integrate(R**2*sp.sin(t), (p,0,2*sp.pi), (t,sp.pi/4,sp.pi) ) ) \n",
    "disp('A_{\\mathrm{RS}}', As)"
   ]
  },
  {
   "cell_type": "markdown",
   "metadata": {},
   "source": [
    "Area of the Monge cap can be obtained in theory as\n",
    "\\begin{align}\n",
    "    A_{\\mathrm{MC}} = 2\\pi\\,\\int_0^{R/\\sqrt{2}}\\,r\\,\\sqrt{1 + z'^2}\\,\\mathrm{d}r\n",
    "\\end{align}\n",
    "But evaluating this expression analytically is a challenge. So we will try to numerically solve for a new radius of the sphere $\\tilde{R}$ such that\n",
    "\\begin{align}\n",
    "    (2 + \\sqrt{2})\\pi \\tilde{R}^2 + 2\\pi\\,\\int_0^{\\tilde{R}/\\sqrt{2}}\\,r\\,\\sqrt{1 + z'^2}\\,\\mathrm{d}r = 4\\pi R^2\n",
    "\\end{align}\n",
    "This automatically implies that the depth of indentation $h$ will no longer be the physical depth of indentation.\n",
    "It will simply become a parameter that is analogous to the indentation in the final structure.\n",
    "\n",
    "We will do the following:\n",
    "1. For a given value of $h/R$, determine the indentation profile $z(r)$.\n",
    "2. Solve for $\\tilde{R}$ such that the area of the indented structure is $4\\pi\\,R^2$.\n",
    "3. Determine the new value of indentation depth $\\tilde{h}$ based on $\\tilde{R}$. Check if $\\tilde{h} = h\\,\\tilde{R}/R$ preserves the shape of the profile."
   ]
  },
  {
   "cell_type": "code",
   "execution_count": 4,
   "metadata": {},
   "outputs": [
    {
     "data": {
      "application/vnd.jupyter.widget-view+json": {
       "model_id": "b45234708f1441deade23d8047e3ecf5",
       "version_major": 2,
       "version_minor": 0
      },
      "text/plain": [
       "FigureCanvasNbAgg()"
      ]
     },
     "metadata": {},
     "output_type": "display_data"
    },
    {
     "data": {
      "application/vnd.jupyter.widget-view+json": {
       "model_id": "d8cef538237a4e679194859d1bb87f56",
       "version_major": 2,
       "version_minor": 0
      },
      "text/plain": [
       "interactive(children=(FloatSlider(value=0.5, description='$\\\\frac{h}{R}$', max=1.0), Output()), _dom_classes=(…"
      ]
     },
     "metadata": {},
     "output_type": "display_data"
    }
   ],
   "source": [
    "%matplotlib ipympl\n",
    "import matplotlib.pyplot as plt\n",
    "from matplotlib.patches import Circle\n",
    "import numpy as np\n",
    "import ipywidgets as ipw\n",
    "from scipy import optimize as op\n",
    "from scipy import integrate as it\n",
    "\n",
    "def root_g(r, h, R):\n",
    "    \"\"\"\n",
    "    Calculates square root of determinant of the metric tensor\n",
    "    \"\"\"\n",
    "    return r*np.sqrt(1 + fzp(r, h, R)**2)\n",
    "\n",
    "def area_diff(R1, R0, h):\n",
    "    \"\"\"\n",
    "    Calculates the difference between areas with new radius R1 and old radius R0.\n",
    "    \"\"\"\n",
    "    monge_area = 2*np.pi*it.quad(root_g, 0, R1*0.7071067811865475, args=(h, R1))[0]\n",
    "    sphere_area = 3.414213562373095*np.pi*R1**2\n",
    "    old_area = 4*np.pi*R0**2\n",
    "    return monge_area + sphere_area - old_area\n",
    "\n",
    "def rescale_radius(h, R):\n",
    "    \"\"\"\n",
    "    Solve for new radius such that area of the indented shell is same as\n",
    "    the original sphere. Then rescale the indentation as per new radius.\n",
    "    \"\"\"\n",
    "    R1, = op.fsolve( area_diff, R, args=(R,h) )\n",
    "    return R1\n",
    "\n",
    "def deformed_half_sphere(R, h):\n",
    "    theta = np.linspace(0.25*np.pi, -0.5*np.pi, 201)\n",
    "    xc = R*np.cos(theta)\n",
    "    yc = R*np.sin(theta)\n",
    "    xd = np.linspace(0, R*0.7071067811865475, 100)\n",
    "    yd = fz(xd, h, R)\n",
    "    x = np.concatenate((xd, xc))\n",
    "    y = np.concatenate((yd, yc))\n",
    "    return x,y\n",
    "\n",
    "Rv = 1.0\n",
    "fig, ax = plt.subplots()\n",
    "ax.add_artist( Circle((0,0), Rv, fill=False, ls='--') )\n",
    "ax.set_aspect('equal')\n",
    "ax.set_xlim(-1.5,1.5)\n",
    "ax.set_ylim(-1.5,1.5)\n",
    "line, = ax.plot([],[])\n",
    "plt.show()\n",
    "\n",
    "def plotSphere(h):\n",
    "    R1 = rescale_radius(h, Rv)\n",
    "    xr, yr = deformed_half_sphere(R1, h)\n",
    "    xl = -xr[::-1]\n",
    "    yl = yr[::-1]\n",
    "    x = np.concatenate((xr, xl))\n",
    "    y = np.concatenate((yr, yl))\n",
    "    line.set_data(x,y)\n",
    "    fig.canvas.draw()\n",
    "    \n",
    "dw = ipw.FloatSlider(value=0.5, min=0, max=1, step=0.1, description=r'$\\frac{h}{R}$')\n",
    "widget = ipw.interact(plotSphere, h=dw)"
   ]
  },
  {
   "cell_type": "markdown",
   "metadata": {},
   "source": [
    "## Volume Change\n",
    "We will calculate the change in volume caused by the above indentation profile. It is the volume of revolution of the following profile."
   ]
  },
  {
   "cell_type": "code",
   "execution_count": 5,
   "metadata": {},
   "outputs": [
    {
     "data": {
      "application/vnd.jupyter.widget-view+json": {
       "model_id": "0d3faf3eb6a24842b4220ee06e4ca663",
       "version_major": 2,
       "version_minor": 0
      },
      "text/plain": [
       "FigureCanvasNbAgg()"
      ]
     },
     "metadata": {},
     "output_type": "display_data"
    }
   ],
   "source": [
    "rn = np.linspace(0, 1/np.sqrt(2))\n",
    "sphere_cap = np.sqrt(1 - rn**2)\n",
    "indent_cap = fz(rn, 0.5, 1.0)\n",
    "fig1, ax1 = plt.subplots()\n",
    "ax1.set_aspect('equal')\n",
    "ax1.set_xlim(0,1.1)\n",
    "ax1.set_ylim(0,1.1)\n",
    "ax1.plot( rn, sphere_cap, label=r'Sphere')\n",
    "ax1.plot( rn, indent_cap, label=r'Indentation')\n",
    "ax1.fill_between( rn, sphere_cap, indent_cap)\n",
    "ax1.legend()\n",
    "plt.show()"
   ]
  },
  {
   "cell_type": "markdown",
   "metadata": {},
   "source": [
    "The volume of revolution of the area under indentation profile around the z-axis is"
   ]
  },
  {
   "cell_type": "code",
   "execution_count": 6,
   "metadata": {},
   "outputs": [
    {
     "data": {
      "text/latex": [
       "\\[V_i = \\frac{\\pi \\tilde{R}^{3}}{30} \\left(- 3 h + 3 + 7 \\sqrt{2}\\right)\\]"
      ]
     },
     "metadata": {},
     "output_type": "display_data"
    }
   ],
   "source": [
    "T = sp.symbols('Rtilde', real=True, positive=True)\n",
    "zT = z.subs(R,T)\n",
    "Vi = sp.simplify( 2*sp.pi*sp.integrate(r*zT, (r,0,T*1/sp.sqrt(2))) )\n",
    "disp('V_i', Vi)"
   ]
  },
  {
   "cell_type": "markdown",
   "metadata": {},
   "source": [
    "Volume of the spherical cap can be calculated as follows."
   ]
  },
  {
   "cell_type": "code",
   "execution_count": 7,
   "metadata": {},
   "outputs": [
    {
     "data": {
      "text/latex": [
       "\\[V_s = \\frac{\\pi \\tilde{R}^{3}}{6} \\left(- \\sqrt{2} + 4\\right)\\]"
      ]
     },
     "metadata": {},
     "output_type": "display_data"
    }
   ],
   "source": [
    "Vs = sp.simplify( 2*sp.pi*sp.integrate( r*sp.sqrt(T**2 - r**2), (r,0,T*sp.S(1)/sp.sqrt(2))) )\n",
    "disp('V_s', Vs)"
   ]
  },
  {
   "cell_type": "markdown",
   "metadata": {},
   "source": [
    "There is also a change in volume due to the area constraint which results in the effective shrinking of the structure. This is just the difference between volumes of spheres of radius $R$ and $\\tilde{R}$.\n",
    "\\begin{align}\n",
    "    \\Delta V_{\\mathrm{area\\ const}} = \\frac{4}{3}\\pi\\left( R^3 - \\tilde{R}^3\\right)\n",
    "\\end{align}"
   ]
  },
  {
   "cell_type": "markdown",
   "metadata": {},
   "source": [
    "Therefore, the total change in volume is"
   ]
  },
  {
   "cell_type": "code",
   "execution_count": 8,
   "metadata": {},
   "outputs": [
    {
     "data": {
      "text/latex": [
       "\\[\\Delta V = \\frac{4 \\pi}{3} R^{3} + \\tilde{R}^{3} \\left(- \\frac{\\pi}{30} \\left(- 3 h + 3 + 7 \\sqrt{2}\\right) - \\frac{4 \\pi}{3} + \\frac{\\pi}{6} \\left(- \\sqrt{2} + 4\\right)\\right)\\]"
      ]
     },
     "metadata": {},
     "output_type": "display_data"
    }
   ],
   "source": [
    "dV = sp.collect( Vs - Vi + sp.Rational(4,3)*sp.pi*R**3 - sp.Rational(4,3)*sp.pi*T**3, T )\n",
    "fdV = sp.lambdify( (h,T,R), dV)\n",
    "disp('\\Delta V', dV)"
   ]
  },
  {
   "cell_type": "markdown",
   "metadata": {},
   "source": [
    "## Monge Patch Mean Curvature and Bending Energy\n",
    "For a Monge patch in polar coordinates formed as a surface of revolution of a function $z(r)$, the determinant of the metric tensor is\n",
    "\\begin{align}\n",
    "    \\sqrt{g} = r\\sqrt{ 1 + z'^2}\n",
    "\\end{align}\n",
    "The principal curvatures are given by\n",
    "\\begin{align}\n",
    "    \\kappa_1 &= -\\frac{z'}{r\\sqrt{1 + z'^2}} = -\\frac{z'}{\\sqrt{g}} \\\\\n",
    "    \\kappa_2 &= -\\frac{z''}{\\left(1 + z'^2\\right)^{3/2}} = -\\frac{z''r^3}{g^{3/2}}\n",
    "\\end{align}\n",
    "Combining the above equations we get\n",
    "\\begin{align}\n",
    "    \\mathcal{H}_{\\mathrm{MC}} &= \\pi\\,\\kappa\\int_0^R{(\\kappa_1 + \\kappa_2)^2\\sqrt{g}}\\,\\mathrm{d}r\\\\\n",
    "    &= \\pi\\,\\kappa\\int_0^R{\\frac{1}{r\\left(1 + z'^2\\right)^{5/2}}\\left( rz'' + z'^3 + z'\\right)^2}\\,\\mathrm{d}r\n",
    "\\end{align}\n",
    "We will use numerical integration to integrate the above expression over the surface of revolution of the indentation profile."
   ]
  },
  {
   "cell_type": "markdown",
   "metadata": {},
   "source": [
    "## Numerical Evaluation of the Full Hamiltonian\n",
    "Now we can calculate the full hamiltonian for a given value of $h$ and $R$."
   ]
  },
  {
   "cell_type": "code",
   "execution_count": 9,
   "metadata": {},
   "outputs": [],
   "source": [
    "from numba import jit, prange\n",
    "\n",
    "def monge_term(r, h, R):\n",
    "    \"\"\"\n",
    "    The integrand of Monge patch bending energy\n",
    "    \"\"\"\n",
    "    zp = fzp(r, h, R)\n",
    "    zpp = fzpp(r, h, R)\n",
    "    dH = 1/(r*(1 + zp**2)**2.5)*(r*zpp + zp**3 + zp)**2\n",
    "    return dH\n",
    "\n",
    "def hamiltonian(h, R0, pressure=1.0):\n",
    "    \"\"\"\n",
    "    H = Monge patch bending + spherical part bending energy +\n",
    "                            pressure x change in volume\n",
    "    R0: original radius of the sphere\n",
    "    \"\"\"\n",
    "    R1 = rescale_radius(h, R0)\n",
    "    mongeBending = np.pi*it.quad(monge_term, 0, R1*0.7071067811865475, args=(h, R1))[0]\n",
    "    pdV = pressure*fdV(h, R1, R0)\n",
    "    return mongeBending, pdV"
   ]
  },
  {
   "cell_type": "markdown",
   "metadata": {},
   "source": [
    "Now let's plot the Hamiltonian as a function of $h$."
   ]
  },
  {
   "cell_type": "code",
   "execution_count": 10,
   "metadata": {},
   "outputs": [
    {
     "data": {
      "application/vnd.jupyter.widget-view+json": {
       "model_id": "a57ea7e3fbfe4fd39afac6485c882ec7",
       "version_major": 2,
       "version_minor": 0
      },
      "text/plain": [
       "FigureCanvasNbAgg()"
      ]
     },
     "metadata": {},
     "output_type": "display_data"
    },
    {
     "data": {
      "application/vnd.jupyter.widget-view+json": {
       "model_id": "67282edb262c4ed69e1c147094650b3b",
       "version_major": 2,
       "version_minor": 0
      },
      "text/plain": [
       "interactive(children=(FloatSlider(value=0.0, continuous_update=False, description='pressure', max=200.0), Outp…"
      ]
     },
     "metadata": {},
     "output_type": "display_data"
    }
   ],
   "source": [
    "pw = ipw.FloatSlider(min=0.0, max=200.0, step=0.1, continuous_update=False)\n",
    "fig2, ax2 = plt.subplots()\n",
    "Hvh, = ax2.plot([],[], label=r'Total')\n",
    "Mvh, = ax2.plot([],[], label=r'Indentation')\n",
    "Pvh, = ax2.plot([],[], label=r'Pressure-Volume')\n",
    "ax2.set_xlim(0,1.0)\n",
    "ax2.set_ylim(0.0,60.0)\n",
    "ax2.set_xlabel(r'h')\n",
    "ax2.set_ylabel(r'$\\mathcal{H}$')\n",
    "ax2.legend()\n",
    "plt.show()\n",
    "\n",
    "Rv = 1.0 # The original radius of the sphere\n",
    "\n",
    "@jit(parallel=True)\n",
    "def plotH( pressure=pw ):\n",
    "    N = 101\n",
    "    hv = np.linspace(0.0, 1.0, N)\n",
    "    Hv = np.zeros(N)\n",
    "    Mv = np.zeros(N)\n",
    "    Pv = np.zeros(N)\n",
    "    for i in prange(N):\n",
    "        Mv[i], Pv[i] = hamiltonian(hv[i], Rv, pressure)\n",
    "        Hv[i] = 21.452136490675905 + Mv[i] - Pv[i]\n",
    "    Hvh.set_data(hv,Hv)\n",
    "    Mvh.set_data(hv,Mv)\n",
    "    Pvh.set_data(hv,Pv)\n",
    "    fig2.canvas.draw()\n",
    "\n",
    "widget2 = ipw.interact(plotH)"
   ]
  }
 ],
 "metadata": {
  "kernelspec": {
   "display_name": "Python 3",
   "language": "python",
   "name": "python3"
  },
  "language_info": {
   "codemirror_mode": {
    "name": "ipython",
    "version": 3
   },
   "file_extension": ".py",
   "mimetype": "text/x-python",
   "name": "python",
   "nbconvert_exporter": "python",
   "pygments_lexer": "ipython3",
   "version": "3.6.5"
  }
 },
 "nbformat": 4,
 "nbformat_minor": 2
}
